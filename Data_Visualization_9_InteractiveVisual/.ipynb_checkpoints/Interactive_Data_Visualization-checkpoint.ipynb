{
 "cells": [
  {
   "cell_type": "markdown",
   "metadata": {},
   "source": [
    "# <center>Interactive Data Visualization in Python With Bokeh</center>"
   ]
  },
  {
   "cell_type": "markdown",
   "metadata": {},
   "source": [
    "![Image0](https://files.realpython.com/media/Interactive-Visualization-w-Bokeh-Watermark.cf07569335d5.jpg)\n",
    "\n",
    "<b>by Leon D'Angio</b>\n",
    "\n",
    "Resource: https://realpython.com/python-data-visualization-bokeh/"
   ]
  },
  {
   "cell_type": "markdown",
   "metadata": {},
   "source": [
    "Bokeh prides itself on being a library for interactive data visualization.\n",
    "\n",
    "Unlike popular counterparts in the Python visualization space, like Matplotlib and Seaborn, Bokeh renders its graphics using HTML and JavaScript. This makes it a great candidate for building web-based dashboards and applications. However, it’s an equally powerful tool for exploring and understanding your data or creating beautiful custom charts for a project or report.\n",
    "\n",
    "Using a number of examples on a real-world dataset, the goal of this tutorial is to get you up and running with Bokeh.\n",
    "\n",
    "You’ll learn how to:\n",
    "- <b>Transform your data into visualizations</b>, using Bokeh\n",
    "- <b>Customize and organize</b> your visualizations\n",
    "- <b>Add interactivity</b> to your visualizations\n",
    "\n"
   ]
  },
  {
   "cell_type": "markdown",
   "metadata": {},
   "source": [
    "## From Data to Visualization"
   ]
  },
  {
   "cell_type": "markdown",
   "metadata": {},
   "source": [
    "Building a visualization with Bokeh involves the following steps:\n",
    "\n",
    "- Prepare the data\n",
    "- Determine where the visualization will be rendered\n",
    "- Set up the figure(s)\n",
    "- Connect to and draw your data\n",
    "- Organize the layout\n",
    "- Preview and save your beautiful data creation\n",
    "\n",
    "Let’s explore each step in more detail."
   ]
  },
  {
   "cell_type": "markdown",
   "metadata": {},
   "source": [
    "### Prepare the Data"
   ]
  },
  {
   "cell_type": "markdown",
   "metadata": {},
   "source": [
    "Any good data visualization starts with—you guessed it—data. If you need a quick refresher on handling data in Python, definitely check out the growing number of excellent [**Real Python tutorials on the subject**](https://realpython.com/tutorials/data-science/).\n",
    "\n",
    "This step commonly involves data handling libraries like [**Pandas**](https://pandas.pydata.org/) and [**Numpy**](https://numpy.org/#) and is all about taking the required steps to transform it into a form that is best suited for your intended visualization."
   ]
  },
  {
   "cell_type": "markdown",
   "metadata": {},
   "source": [
    "### Determine Where the Visualization Will Be Rendered"
   ]
  },
  {
   "cell_type": "markdown",
   "metadata": {},
   "source": [
    "At this step, you’ll determine how you want to generate and ultimately view your visualization. In this tutorial, you’ll learn about two common options that Bokeh provides: generating a static HTML file and rendering your visualization inline in a [**Jupyter Notebook**](https://jupyter.org/)."
   ]
  },
  {
   "cell_type": "markdown",
   "metadata": {},
   "source": [
    "### Set up the Figure(s)"
   ]
  },
  {
   "cell_type": "markdown",
   "metadata": {},
   "source": [
    "From here, you’ll assemble your figure, preparing the canvas for your visualization. In this step, you can customize everything from the titles to the tick marks. You can also set up a suite of tools that can enable various user interactions with your visualization."
   ]
  },
  {
   "cell_type": "markdown",
   "metadata": {},
   "source": [
    "### Connect to and Draw Your Data"
   ]
  },
  {
   "cell_type": "markdown",
   "metadata": {},
   "source": [
    "Next, you’ll use Bokeh’s multitude of renderers to give shape to your data. Here, you have the flexibility to draw your data from scratch using the many available marker and shape options, all of which are easily customizable. This functionality gives you incredible creative freedom in representing your data.\n",
    "\n",
    "Additionally, Bokeh has some built-in functionality for building things like [**stacked bar charts**](https://docs.bokeh.org/en/latest/docs/user_guide/categorical.html#stacked) and plenty of examples for creating more advanced visualizations like [**network graphs**](https://docs.bokeh.org/en/latest/docs/user_guide/graph.html) and [**maps**](https://docs.bokeh.org/en/latest/docs/user_guide/geo.html)."
   ]
  },
  {
   "cell_type": "markdown",
   "metadata": {},
   "source": [
    "### Organize the Layout"
   ]
  },
  {
   "cell_type": "markdown",
   "metadata": {},
   "source": [
    "If you need more than one figure to express your data, Bokeh’s got you covered. Not only does Bokeh offer the standard grid-like layout options, but it also allows you to easily organize your visualizations into a tabbed layout in just a few lines of code.\n",
    "\n",
    "In addition, your plots can be quickly linked together, so a selection on one will be reflected on any combination of the others."
   ]
  },
  {
   "cell_type": "markdown",
   "metadata": {},
   "source": [
    "### Preview and Save Your Beautiful Data Creation"
   ]
  },
  {
   "cell_type": "markdown",
   "metadata": {},
   "source": [
    "Finally, it’s time to see what you created.\n",
    "\n",
    "Whether you’re viewing your visualization in a browser or notebook, you’ll be able to explore your visualization, examine your customizations, and play with any interactions that were added.\n",
    "\n",
    "If you like what you see, you can save your visualization to an image file. Otherwise, you can revisit the steps above as needed to bring your data vision to reality.\n",
    "\n",
    "That’s it! Those six steps are the building blocks for a tidy, flexible template that can be used to take your data from the table to the big screen:"
   ]
  },
  {
   "cell_type": "code",
   "execution_count": null,
   "metadata": {},
   "outputs": [],
   "source": [
    "\"\"\"Bokeh Visualization Template\n",
    "\n",
    "This template is a general outline for turning your data into a \n",
    "visualization using Bokeh.\n",
    "\"\"\"\n",
    "# Data handling\n",
    "import pandas as pd\n",
    "import numpy as np\n",
    "\n",
    "# Bokeh libraries\n",
    "from bokeh.io import output_file, output_notebook\n",
    "from bokeh.plotting import figure, show\n",
    "from bokeh.models import ColumnDataSource\n",
    "from bokeh.layouts import row, column, gridplot\n",
    "from bokeh.models.widgets import Tabs, Panel\n",
    "\n",
    "# Prepare the data\n",
    "\n",
    "# Determine where the visualization will be rendered\n",
    "output_file('filename.html')  # Render to static HTML, or \n",
    "# output_notebook()  # Render inline in a Jupyter Notebook\n",
    "\n",
    "# Set up the figure(s)\n",
    "fig = figure()  # Instantiate a figure() object\n",
    "\n",
    "# Connect to and draw the data\n",
    "\n",
    "# Organize the layout\n",
    "\n",
    "# Preview and save \n",
    "show(fig)  # See what I made, and save if I like it"
   ]
  },
  {
   "cell_type": "markdown",
   "metadata": {},
   "source": [
    "Some common code snippets that are found in each step are previewed above, and you’ll see how to fill out the rest as you move through the rest of the tutorial!"
   ]
  },
  {
   "cell_type": "markdown",
   "metadata": {},
   "source": [
    "## Generating Your First Figure"
   ]
  },
  {
   "cell_type": "markdown",
   "metadata": {},
   "source": [
    "There are [**multiple ways to output your visualization**](https://docs.bokeh.org/en/latest/docs/user_guide/concepts.html#output-methods) in Bokeh. In this tutorial, you’ll see these two options:\n",
    "\n",
    "- <b>output_file('filename.html')</b> will write the visualization to a static HTML file.\n",
    "- <b>output_notebook()</b> will render your visualization directly in a Jupyter Notebook.\n",
    "\n",
    "It’s important to note that neither function will actually show you the visualization. That doesn’t happen until show() is called. However, they will ensure that, when show() is called, the visualization appears where you intend it to.\n",
    "\n",
    "By calling both output_file() and output_notebook() in the same execution, the visualization will be rendered both to a static HTML file and inline in the notebook. However, if for whatever reason you run multiple output_file() commands in the same execution, only the last one will be used for rendering.\n",
    "\n",
    "This is a great opportunity to give you your first glimpse at a default Bokeh figure() using output_file():"
   ]
  },
  {
   "cell_type": "code",
   "execution_count": null,
   "metadata": {},
   "outputs": [],
   "source": [
    "# Bokeh Libraries\n",
    "from bokeh.io import output_file\n",
    "from bokeh.plotting import figure, show\n",
    "\n",
    "# The figure will be rendered in a static HTML file called output_file_test.html\n",
    "output_file('output_file_test.html', \n",
    "            title='Empty Bokeh Figure')\n",
    "\n",
    "# Set up a generic figure() object\n",
    "fig = figure()\n",
    "\n",
    "# See what it looks like\n",
    "show(fig)"
   ]
  },
  {
   "cell_type": "markdown",
   "metadata": {},
   "source": [
    "If you were to run the same code snippet with output_notebook() in place of output_file(), assuming you have a Jupyter Notebook fired up and ready to go, you will get the following:"
   ]
  },
  {
   "cell_type": "code",
   "execution_count": null,
   "metadata": {},
   "outputs": [],
   "source": [
    "# Bokeh Libraries\n",
    "from bokeh.io import output_notebook\n",
    "from bokeh.plotting import figure, show\n",
    "\n",
    "# The figure will be right in my Jupyter Notebook\n",
    "output_notebook()\n",
    "\n",
    "# Set up a generic figure() object\n",
    "fig = figure()\n",
    "\n",
    "# See what it looks like\n",
    "show(fig)"
   ]
  },
  {
   "cell_type": "markdown",
   "metadata": {},
   "source": [
    "<b>Note:</b> Sometimes, when rendering multiple visualizations sequentially, you’ll see that past renders are not being cleared with each execution. If you experience this, import and run the following between executions:"
   ]
  },
  {
   "cell_type": "code",
   "execution_count": null,
   "metadata": {},
   "outputs": [],
   "source": [
    "# Import reset_output (only needed once) \n",
    "from bokeh.plotting import reset_output\n",
    "\n",
    "# Use reset_output() between subsequent show() calls, as needed\n",
    "reset_output()"
   ]
  },
  {
   "cell_type": "markdown",
   "metadata": {},
   "source": [
    "Before moving on, you may have noticed that the default Bokeh figure comes pre-loaded with a toolbar. This is an important sneak preview into the interactive elements of Bokeh that come right out of the box. You’ll find out more about the toolbar and how to configure it in the [**Adding Interaction**](https://realpython.com/python-data-visualization-bokeh/#adding-interaction) section at the end of this tutorial."
   ]
  },
  {
   "cell_type": "markdown",
   "metadata": {},
   "source": [
    "## Getting Your Figure Ready for Data"
   ]
  },
  {
   "cell_type": "markdown",
   "metadata": {},
   "source": [
    "Now that you know how to create and view a generic Bokeh figure either in a browser or Jupyter Notebook, it’s time to learn more about how to configure the figure() object.\n",
    "\n",
    "The figure() object is not only the foundation of your data visualization but also the object that unlocks all of Bokeh’s available tools for visualizing data. The Bokeh figure is a subclass of the [**Bokeh Plot object**](https://docs.bokeh.org/en/latest/docs/reference/models/plots.html#bokeh.models.plots.Plot), which provides many of the parameters that make it possible to configure the aesthetic elements of your figure.\n",
    "\n",
    "To show you just a glimpse into the customization options available, let’s create the ugliest figure ever:"
   ]
  },
  {
   "cell_type": "code",
   "execution_count": null,
   "metadata": {},
   "outputs": [],
   "source": [
    "# Bokeh Libraries\n",
    "from bokeh.io import output_notebook\n",
    "from bokeh.plotting import figure, show\n",
    "\n",
    "# The figure will be rendered inline in my Jupyter Notebook\n",
    "output_notebook()\n",
    "\n",
    "# Example figure\n",
    "fig = figure(background_fill_color='gray',\n",
    "             background_fill_alpha=0.5,\n",
    "             border_fill_color='blue',\n",
    "             border_fill_alpha=0.25,\n",
    "             plot_height=300,\n",
    "             plot_width=500,\n",
    "             x_axis_label='X Label',\n",
    "             x_axis_type='datetime',\n",
    "             x_axis_location='above',\n",
    "             x_range=('2018-01-01', '2018-06-30'),\n",
    "             y_axis_label='Y Label',\n",
    "             y_axis_type='linear',\n",
    "             y_axis_location='left',\n",
    "             y_range=(0, 100),\n",
    "             title='Example Figure',\n",
    "             title_location='right',\n",
    "             toolbar_location='below',\n",
    "             tools='save')\n",
    "\n",
    "# See what it looks like\n",
    "show(fig)"
   ]
  },
  {
   "cell_type": "code",
   "execution_count": null,
   "metadata": {},
   "outputs": [],
   "source": [
    "# Remove the gridlines from the figure() object\n",
    "fig.grid.grid_line_color = None\n",
    "\n",
    "# See what it looks like \n",
    "show(fig)"
   ]
  },
  {
   "cell_type": "markdown",
   "metadata": {},
   "source": [
    "There is tons more I could touch on here, but don’t feel like you’re missing out. I’ll make sure to introduce different figure tweaks as the tutorial progresses. Here are some other helpful links on the topic:\n",
    "\n",
    "- [**The Bokeh Plot Class**](https://docs.bokeh.org/en/latest/docs/reference/models/plots.html#bokeh.models.plots.Plot) is the superclass of the figure() object, from which figures inherit a lot of their attributes.\n",
    "- [**The Figure Class**](https://docs.bokeh.org/en/latest/docs/reference/plotting.html#bokeh.plotting.figure.Figure) documentation is a good place to find more detail about the arguments of the figure() object.\n",
    "\n",
    "Here are a few specific customization options worth checking out:\n",
    "\n",
    "- [**Text Properties**](https://docs.bokeh.org/en/latest/docs/user_guide/styling.html#text-properties) covers all the attributes related to changing font styles, sizes, colors, and so forth.\n",
    "- [**TickFormatters**](https://docs.bokeh.org/en/latest/docs/user_guide/styling.html#tick-label-formats) are built-in objects specifically for formatting your axes using Python-like string formatting syntax.\n",
    "\n",
    "Sometimes, it isn’t clear how your figure needs to be customized until it actually has some data visualized in it, so next you’ll learn how to make that happen."
   ]
  },
  {
   "cell_type": "markdown",
   "metadata": {},
   "source": [
    "## Drawing Data With Glyphs"
   ]
  },
  {
   "cell_type": "markdown",
   "metadata": {},
   "source": [
    "An empty figure isn’t all that exciting, so let’s look at glyphs: the building blocks of Bokeh visualizations. A glyph is a vectorized graphical shape or marker that is used to represent your data, like a circle or square. More examples can be found in the [**Bokeh gallery**](https://docs.bokeh.org/en/latest/docs/gallery/markers.html). After you create your figure, you are given access to [**a bevy of configurable glyph methods**](https://docs.bokeh.org/en/latest/docs/reference/plotting.html).\n",
    "\n",
    "Let’s start with a very basic example, drawing some points on an x-y coordinate grid:"
   ]
  },
  {
   "cell_type": "code",
   "execution_count": null,
   "metadata": {},
   "outputs": [],
   "source": [
    "# Bokeh Libraries\n",
    "from bokeh.io import output_file\n",
    "from bokeh.plotting import figure, show\n",
    "\n",
    "# My x-y coordinate data\n",
    "x = [1, 2, 1]\n",
    "y = [1, 1, 2]\n",
    "\n",
    "# Output the visualization directly in the notebook\n",
    "output_file('first_glyphs.html', title='First Glyphs')\n",
    "\n",
    "# Create a figure with no toolbar and axis ranges of [0,3]\n",
    "fig = figure(title='My Coordinates',\n",
    "             plot_height=300, plot_width=300,\n",
    "             x_range=(0, 3), y_range=(0, 3))\n",
    "\n",
    "# Draw the coordinates as circles\n",
    "fig.circle(x=x, y=y,\n",
    "           color='green', size=10, alpha=0.5)\n",
    "\n",
    "# Show plot\n",
    "show(fig)"
   ]
  },
  {
   "cell_type": "markdown",
   "metadata": {},
   "source": [
    "Once your figure is instantiated, you can see how it can be used to draw the x-y coordinate data using customized circle glyphs.\n",
    "\n",
    "Here are a few categories of glyphs:\n",
    "\n",
    "- <b>Marker</b> includes shapes like circles, diamonds, squares, and triangles and is effective for creating visualizations like scatter and bubble charts.\n",
    "\n",
    "- <b>Line</b> covers things like single, step, and multi-line shapes that can be used to build line charts.\n",
    "\n",
    "- <b>Bar/Rectangle</b> shapes can be used to create traditional or stacked bar (hbar) and column (vbar) charts as well as waterfall or [**gantt**](https://en.wikipedia.org/wiki/Gantt_chart) charts.\n",
    "\n",
    "Information about the glyphs above, as well as others, can be found in [**Bokeh’s Reference Guide**](https://docs.bokeh.org/en/latest/docs/user_guide/plotting.html).\n",
    "\n",
    "These glyphs can be combined as needed to fit your visualization needs. Let’s say I want to create a visualization that shows how many words I wrote per day to make this tutorial, with an overlaid trend line of the cumulative word count:"
   ]
  },
  {
   "cell_type": "code",
   "execution_count": null,
   "metadata": {},
   "outputs": [],
   "source": [
    "import numpy as np\n",
    "\n",
    "# Bokeh libraries\n",
    "from bokeh.io import output_notebook\n",
    "from bokeh.plotting import figure, show\n",
    "\n",
    "# My word count data\n",
    "day_num = np.linspace(1, 10, 10)\n",
    "daily_words = [450, 628, 488, 210, 287, 791, 508, 639, 397, 943]\n",
    "cumulative_words = np.cumsum(daily_words)\n",
    "\n",
    "# Output the visualization directly in the notebook\n",
    "output_notebook()\n",
    "\n",
    "# Create a figure with a datetime type x-axis\n",
    "fig = figure(title='My Tutorial Progress',\n",
    "             plot_height=400, plot_width=700,\n",
    "             x_axis_label='Day Number', y_axis_label='Words Written',\n",
    "             x_minor_ticks=2, y_range=(0, 6000))\n",
    "\n",
    "# The daily words will be represented as vertical bars (columns)\n",
    "fig.vbar(x=day_num, bottom=0, top=daily_words, \n",
    "         color='blue', width=0.75, \n",
    "         legend_label='Daily')\n",
    "\n",
    "# The cumulative sum will be a trend line\n",
    "fig.line(x=day_num, y=cumulative_words, \n",
    "         color='gray', line_width=1,\n",
    "         legend_label='Cumulative')\n",
    "\n",
    "# Put the legend in the upper left corner\n",
    "fig.legend.location = 'top_left'\n",
    "\n",
    "# Let's check it out\n",
    "show(fig)"
   ]
  },
  {
   "cell_type": "markdown",
   "metadata": {},
   "source": [
    "To combine the columns and lines on the figure, they are simply created using the same figure() object.\n",
    "\n",
    "Additionally, you can see above how seamlessly a legend can be created by setting the legend property for each glyph. The legend was then moved to the upper left corner of the plot by assigning 'top_left' to fig.legend.location.\n",
    "\n",
    "You can check out [**much more info about styling legends**](https://docs.bokeh.org/en/latest/docs/user_guide/styling.html#legends). Teaser: they will show up again later in the tutorial when we start digging into interactive elements of the visualization."
   ]
  },
  {
   "cell_type": "markdown",
   "metadata": {},
   "source": [
    "## A Quick Aside About Data"
   ]
  },
  {
   "cell_type": "markdown",
   "metadata": {},
   "source": [
    "Anytime you are exploring a new visualization library, it’s a good idea to start with some data in a domain you are familiar with. The beauty of Bokeh is that nearly any idea you have should be possible. It’s just a matter of how you want to leverage the available tools to do so.\n",
    "\n",
    "The remaining examples will use publicly available data from Kaggle, which has information about [**the National Basketball Association’s (NBA) 2017-18 season**](https://www.kaggle.com/pablote/nba-enhanced-stats), specifically:\n",
    "\n",
    "- [**2017-18_playerBoxScore.csv**](https://www.kaggle.com/pablote/nba-enhanced-stats): game-by-game snapshots of player statistics\n",
    "- [**2017-18_teamBoxScore.csv**](https://www.kaggle.com/pablote/nba-enhanced-stats): game-by-game snapshots of team statistics\n",
    "- [**2017-18_standings.csv**](https://www.kaggle.com/pablote/nba-enhanced-stats): daily team standings and rankings\n",
    "\n",
    "This data has nothing to do with what I do for work, but I love basketball and enjoy thinking about ways to visualize the ever-growing amount of data associated with it.\n",
    "\n",
    "If you don’t have data to play with from school or work, think about something you’re interested in and try to find some data related to that. It will go a long way in making both the learning and the creative process faster and more enjoyable!\n",
    "\n",
    "To follow along with the examples in the tutorial, you can download the datasets from the links above and [**read them**](https://realpython.com/pandas-read-write-files/) into a [**Pandas DataFrame**](https://realpython.com/pandas-dataframe/) using the following commands:"
   ]
  },
  {
   "cell_type": "code",
   "execution_count": null,
   "metadata": {},
   "outputs": [],
   "source": [
    "import pandas as pd\n",
    "\n",
    "# Read the csv files\n",
    "player_stats = pd.read_csv('./data/2017-18_playerBoxScore.csv', parse_dates=['gmDate'])\n",
    "team_stats = pd.read_csv('./data/2017-18_teamBoxScore.csv', parse_dates=['gmDate'])\n",
    "standings = pd.read_csv('./data/2017-18_standings.csv', parse_dates=['stDate'])"
   ]
  },
  {
   "cell_type": "markdown",
   "metadata": {},
   "source": [
    "This code snippet reads the data from the three CSV files and automatically interprets the date columns as [**datetime objects**](https://realpython.com/python-datetime/).\n",
    "\n",
    "It’s now time to get your hands on some real data."
   ]
  },
  {
   "cell_type": "markdown",
   "metadata": {},
   "source": [
    "## Using the ColumnDataSource Object"
   ]
  },
  {
   "cell_type": "markdown",
   "metadata": {},
   "source": [
    "The examples above used [**Python lists**](https://realpython.com/python-lists-tuples/#python-lists) and [**Numpy arrays**](https://realpython.com/numpy-array-programming/) to represent the data, and Bokeh is well equipped to handle these datatypes. However, when it comes to data in Python, you are most likely going to come across [**Python dictionaries**](https://realpython.com/python-dicts/) and [**Pandas DataFrames**](https://pandas.pydata.org/pandas-docs/stable/reference/api/pandas.DataFrame.html), especially if you’re reading in data from a file or external data source.\n",
    "\n",
    "Bokeh is well equipped to work with these more complex data structures and even has built-in functionality to handle them, namely the ColumnDataSource.\n",
    "\n",
    "You may be asking yourself, “Why use a ColumnDataSource when Bokeh can interface with other data types directly?”\n",
    "\n",
    "For one, whether you reference a list, array, dictionary, or DataFrame directly, Bokeh is going to turn it into a ColumnDataSource behind the scenes anyway. More importantly, the ColumnDataSource makes it much easier to implement Bokeh’s interactive affordances.\n",
    "\n",
    "The ColumnDataSource is foundational in passing the data to the glyphs you are using to visualize. Its primary functionality is to map names to the columns of your data. This makes it easier for you to reference elements of your data when building your visualization. It also makes it easier for Bokeh to do the same when building your visualization.\n",
    "\n",
    "The ColumnDataSource can interpret three types of data objects:\n",
    "\n",
    "- <b>Python dict:</b> The keys are names associated with the respective value sequences (lists, arrays, and so forth).\n",
    "\n",
    "- <b>Pandas DataFrame:</b> The columns of the DataFrame become the reference names for the ColumnDataSource.\n",
    "\n",
    "- <b>Pandas groupby:</b> The columns of the ColumnDataSource reference the columns as seen by calling groupby.describe().\n",
    "\n",
    "Let’s start by visualizing the race for first place in the NBA’s Western Conference in 2017-18 between the defending champion Golden State Warriors and the challenger Houston Rockets. The daily win-loss records of these two teams is stored in a DataFrame named west_top_2:"
   ]
  },
  {
   "cell_type": "code",
   "execution_count": null,
   "metadata": {},
   "outputs": [],
   "source": [
    "# west_top_2 = (standings[(standings['teamAbbr'] == 'HOU') | (standings['teamAbbr'] == 'GS')]\n",
    "#                .loc[:, ['stDate', 'teamAbbr', 'gameWon']]\n",
    "#                .sort_values(['teamAbbr','stDate']))\n",
    "# west_top_2.head()"
   ]
  },
  {
   "cell_type": "code",
   "execution_count": null,
   "metadata": {},
   "outputs": [],
   "source": [
    "condition = (standings['teamAbbr'] == 'HOU') | (standings['teamAbbr'] == 'GS')\n",
    "west_top_2 = standings[condition]\n",
    "west_top_2 = west_top_2.loc[:, ['stDate', 'teamAbbr', 'gameWon']]\n",
    "west_top_2 = west_top_2.sort_values(['teamAbbr','stDate'])\n",
    "west_top_2.head()"
   ]
  },
  {
   "cell_type": "markdown",
   "metadata": {},
   "source": [
    "From here, you can load this DataFrame into two ColumnDataSource objects and visualize the race:\n",
    "\n"
   ]
  },
  {
   "cell_type": "code",
   "execution_count": null,
   "metadata": {},
   "outputs": [],
   "source": [
    "# Bokeh libraries\n",
    "from bokeh.plotting import figure, show\n",
    "from bokeh.io import output_file\n",
    "from bokeh.models import ColumnDataSource\n",
    "\n",
    "# Output to file\n",
    "output_file('west-top-2-standings-race.html', \n",
    "            title='Western Conference Top 2 Teams Wins Race')\n",
    "\n",
    "# Isolate the data for the Rockets and Warriors\n",
    "rockets_data = west_top_2[west_top_2['teamAbbr'] == 'HOU']\n",
    "warriors_data = west_top_2[west_top_2['teamAbbr'] == 'GS']\n",
    "\n",
    "# Create a ColumnDataSource object for each team\n",
    "rockets_cds = ColumnDataSource(rockets_data)\n",
    "warriors_cds = ColumnDataSource(warriors_data)\n",
    "\n",
    "# Create and configure the figure\n",
    "fig = figure(x_axis_type='datetime',\n",
    "             plot_height=300, plot_width=600,\n",
    "             title='Western Conference Top 2 Teams Wins Race, 2017-18',\n",
    "             x_axis_label='Date', y_axis_label='Wins')\n",
    "\n",
    "# Render the race as step lines\n",
    "fig.step('stDate', 'gameWon', \n",
    "         color='#CE1141', legend_label='Rockets', \n",
    "         source=rockets_cds)\n",
    "fig.step('stDate', 'gameWon', \n",
    "         color='#006BB6', legend_label='Warriors', \n",
    "         source=warriors_cds)\n",
    "\n",
    "# Move the legend to the upper left corner\n",
    "fig.legend.location = 'top_left'\n",
    "\n",
    "# Show the plot\n",
    "show(fig)"
   ]
  },
  {
   "cell_type": "markdown",
   "metadata": {},
   "source": [
    "Notice how the respective ColumnDataSource objects are referenced when creating the two lines. You simply pass the original column names as input parameters and specify which ColumnDataSource to use via the source property.\n",
    "\n",
    "The visualization shows the tight race throughout the season, with the Warriors building a pretty big cushion around the middle of the season. However, a bit of a late-season slide allowed the Rockets to catch up and ultimately surpass the defending champs to finish the season as the Western Conference number-one seed."
   ]
  },
  {
   "cell_type": "markdown",
   "metadata": {},
   "source": [
    "<b>Note:</b> In Bokeh, you can specify colors either by name, hex value, or RGB color code.\n",
    "\n",
    "For the visualization above, a color is being specified for the respective lines representing the two teams. Instead of using CSS color names like 'red' for the Rockets and 'blue' for the Warriors, you might have wanted to add a nice visual touch by using the official team colors in the form of hex color codes. Alternatively, you could have used tuples representing RGB color codes: (206, 17, 65) for the Rockets, (0, 107, 182) for the Warriors.\n",
    "\n",
    "Bokeh provides a helpful list of CSS color names categorized by their general hue. Also, htmlcolorcodes.com is a great site for finding CSS, hex, and RGB color codes."
   ]
  },
  {
   "cell_type": "markdown",
   "metadata": {},
   "source": [
    "ColumnDataSource objects can do more than just serve as an easy way to reference DataFrame columns. The ColumnDataSource object has three built-in filters that can be used to create views on your data using a CDSView object:\n",
    "\n",
    "- <b>GroupFilter</b> selects rows from a ColumnDataSource based on a categorical reference value\n",
    "- <b>IndexFilter</b> filters the ColumnDataSource via a list of integer indices\n",
    "- <b>BooleanFilter</b> allows you to use a list of [**boolean values**](https://realpython.com/python-boolean/), with True rows being selected\n",
    "\n",
    "In the previous example, two ColumnDataSource objects were created, one each from a subset of the west_top_2 DataFrame. The next example will recreate the same output from one ColumnDataSource based on all of west_top_2 using a GroupFilter that creates a view on the data:"
   ]
  },
  {
   "cell_type": "code",
   "execution_count": null,
   "metadata": {},
   "outputs": [],
   "source": [
    "# Bokeh libraries\n",
    "from bokeh.plotting import figure, show\n",
    "from bokeh.io import output_file\n",
    "from bokeh.models import ColumnDataSource, CDSView, GroupFilter\n",
    "\n",
    "# Output to file\n",
    "output_file('west-top-2-standings-race.html', \n",
    "            title='Western Conference Top 2 Teams Wins Race')\n",
    "\n",
    "# Create a ColumnDataSource\n",
    "west_cds = ColumnDataSource(west_top_2)\n",
    "\n",
    "# Create views for each team\n",
    "rockets_view = CDSView(source=west_cds,\n",
    "                       filters=[GroupFilter(column_name='teamAbbr', group='HOU')])\n",
    "warriors_view = CDSView(source=west_cds,\n",
    "                        filters=[GroupFilter(column_name='teamAbbr', group='GS')])\n",
    "\n",
    "# Create and configure the figure\n",
    "west_fig = figure(x_axis_type='datetime',\n",
    "                  plot_height=300, plot_width=600,\n",
    "                  title='Western Conference Top 2 Teams Wins Race, 2017-18',\n",
    "                  x_axis_label='Date', y_axis_label='Wins')\n",
    "\n",
    "# Render the race as step lines\n",
    "west_fig.step('stDate', 'gameWon',\n",
    "              source=west_cds, view=rockets_view,\n",
    "              color='#CE1141', legend_label='Rockets')\n",
    "west_fig.step('stDate', 'gameWon',\n",
    "              source=west_cds, view=warriors_view,\n",
    "              color='#006BB6', legend_label='Warriors')\n",
    "\n",
    "# Move the legend to the upper left corner\n",
    "west_fig.legend.location = 'top_left'\n",
    "\n",
    "# Show the plot\n",
    "show(west_fig)"
   ]
  },
  {
   "cell_type": "markdown",
   "metadata": {},
   "source": [
    "Notice how the GroupFilter is passed to CDSView in a list. This allows you to combine multiple filters together to isolate the data you need from the ColumnDataSource as needed.\n",
    "\n",
    "For information about integrating data sources, check out the Bokeh user guide’s post on the [**ColumnDataSource and other source objects available**](https://docs.bokeh.org/en/latest/docs/user_guide/data.html).\n",
    "The Western Conference ended up being an exciting race, but say you want to see if the Eastern Conference was just as tight. Not only that, but you’d like to view them in a single visualization. This is a perfect segue to the next topic: layouts."
   ]
  },
  {
   "cell_type": "markdown",
   "metadata": {},
   "source": [
    "## Organizing Multiple Visualizations With Layouts"
   ]
  },
  {
   "cell_type": "markdown",
   "metadata": {},
   "source": [
    "The Eastern Conference standings came down to two rivals in the Atlantic Division: the Boston Celtics and the Toronto Raptors. Before replicating the steps used to create west_top_2, let’s try to put the ColumnDataSource to the test one more time using what you learned above.\n",
    "\n",
    "In this example, you’ll see how to feed an entire DataFrame into a ColumnDataSource and create views to isolate the relevant data:"
   ]
  },
  {
   "cell_type": "code",
   "execution_count": null,
   "metadata": {},
   "outputs": [],
   "source": [
    "# Bokeh libraries\n",
    "from bokeh.plotting import figure, show\n",
    "from bokeh.io import output_file\n",
    "from bokeh.models import ColumnDataSource, CDSView, GroupFilter\n",
    "\n",
    "# Output to file\n",
    "output_file('east-top-2-standings-race.html', \n",
    "            title='Eastern Conference Top 2 Teams Wins Race')\n",
    "\n",
    "# Create a ColumnDataSource\n",
    "standings_cds = ColumnDataSource(standings)\n",
    "\n",
    "# Create views for each team\n",
    "celtics_view = CDSView(source=standings_cds,\n",
    "                      filters=[GroupFilter(column_name='teamAbbr', \n",
    "                                           group='BOS')])\n",
    "raptors_view = CDSView(source=standings_cds,\n",
    "                      filters=[GroupFilter(column_name='teamAbbr', \n",
    "                                           group='TOR')])\n",
    "\n",
    "# Create and configure the figure\n",
    "east_fig = figure(x_axis_type='datetime',\n",
    "           plot_height=300, plot_width=600,\n",
    "           title='Eastern Conference Top 2 Teams Wins Race, 2017-18',\n",
    "           x_axis_label='Date', y_axis_label='Wins')\n",
    "\n",
    "# Render the race as step lines\n",
    "east_fig.step('stDate', 'gameWon', \n",
    "              color='#007A33', legend_label='Celtics',\n",
    "              source=standings_cds, view=celtics_view)\n",
    "east_fig.step('stDate', 'gameWon', \n",
    "              color='#CE1141', legend_label='Raptors',\n",
    "              source=standings_cds, view=raptors_view)\n",
    "\n",
    "# Move the legend to the upper left corner\n",
    "east_fig.legend.location = 'top_left'\n",
    "\n",
    "# Show the plot\n",
    "show(east_fig)"
   ]
  },
  {
   "cell_type": "markdown",
   "metadata": {},
   "source": [
    "The ColumnDataSource was able to isolate the relevant data within a 5,040-by-39 DataFrame without breaking a sweat, saving a few lines of Pandas code in the process.\n",
    "\n",
    "Looking at the visualization, you can see that the Eastern Conference race was no slouch. After the Celtics roared out of the gate, the Raptors clawed all the way back to overtake their division rival and finish the regular season with five more wins.\n",
    "\n",
    "With our two visualizations ready, it’s time to put them together.\n",
    "\n",
    "Similar to the functionality of [**Matplotlib’s subplot**](https://realpython.com/python-matplotlib-guide/#understanding-pltsubplots-notation), Bokeh offers the column, row, and gridplot functions in its bokeh.layouts module. These functions can more generally be classified as <b>layouts</b>.\n",
    "\n",
    "The usage is very straightforward. If you want to put two visualizations in a vertical configuration, you can do so with the following:"
   ]
  },
  {
   "cell_type": "code",
   "execution_count": null,
   "metadata": {},
   "outputs": [],
   "source": [
    "# Bokeh libraries\n",
    "from bokeh.plotting import figure, show\n",
    "from bokeh.models import ColumnDataSource, CDSView, GroupFilter\n",
    "\n",
    "# Create a ColumnDataSource\n",
    "standings_cds = ColumnDataSource(standings)\n",
    "\n",
    "# Create the views for each team\n",
    "celtics_view = CDSView(source=standings_cds,\n",
    "                      filters=[GroupFilter(column_name='teamAbbr', \n",
    "                                           group='BOS')])\n",
    "\n",
    "raptors_view = CDSView(source=standings_cds,\n",
    "                      filters=[GroupFilter(column_name='teamAbbr', \n",
    "                                           group='TOR')])\n",
    "\n",
    "rockets_view = CDSView(source=standings_cds,\n",
    "                      filters=[GroupFilter(column_name='teamAbbr', \n",
    "                                           group='HOU')])\n",
    "warriors_view = CDSView(source=standings_cds,\n",
    "                      filters=[GroupFilter(column_name='teamAbbr', \n",
    "                                           group='GS')])\n",
    "\n",
    "# Create and configure the figure\n",
    "east_fig = figure(x_axis_type='datetime',\n",
    "                  plot_height=300,\n",
    "                  x_axis_label='Date',\n",
    "                  y_axis_label='Wins')\n",
    "\n",
    "west_fig = figure(x_axis_type='datetime',\n",
    "                  plot_height=300,\n",
    "                  x_axis_label='Date',\n",
    "                  y_axis_label='Wins')\n",
    "\n",
    "# Configure the figures for each conference\n",
    "east_fig.step('stDate', 'gameWon', \n",
    "              color='#007A33', legend_label='Celtics',\n",
    "              source=standings_cds, view=celtics_view)\n",
    "east_fig.step('stDate', 'gameWon', \n",
    "              color='#CE1141', legend_label='Raptors',\n",
    "              source=standings_cds, view=raptors_view)\n",
    "\n",
    "west_fig.step('stDate', 'gameWon', color='#CE1141', legend_label='Rockets',\n",
    "              source=standings_cds, view=rockets_view)\n",
    "west_fig.step('stDate', 'gameWon', color='#006BB6', legend_label='Warriors',\n",
    "              source=standings_cds, view=warriors_view)\n",
    "\n",
    "# Move the legend to the upper left corner\n",
    "east_fig.legend.location = 'top_left'\n",
    "west_fig.legend.location = 'top_left'\n",
    "\n",
    "# Output to file\n",
    "output_file('east-west-top-2-standings-race.html', \n",
    "            title='Conference Top 2 Teams Wins Race')\n",
    "\n",
    "# Plot the two visualizations in a vertical configuration\n",
    "show(column(west_fig, east_fig))"
   ]
  },
  {
   "cell_type": "markdown",
   "metadata": {},
   "source": [
    "Instead of using column or row, you may want to use a gridplot instead.\n",
    "\n",
    "One key difference of gridplot is that it will automatically consolidate the toolbar across all of its children figures. The two visualizations above do not have a toolbar, but if they did, then each figure would have its own when using column or row. With that, it also has its own toolbar_location property, seen below set to 'right'.\n",
    "\n",
    "Syntactically, you’ll also notice below that gridplot differs in that, instead of being passed a tuple as input, it requires a list of lists, where each sub-list represents a row in the grid:"
   ]
  },
  {
   "cell_type": "code",
   "execution_count": null,
   "metadata": {},
   "outputs": [],
   "source": [
    "# Bokeh libraries\n",
    "from bokeh.io import output_file\n",
    "from bokeh.layouts import gridplot\n",
    "\n",
    "# Output to file\n",
    "output_file('east-west-top-2-gridplot.html', \n",
    "            title='Conference Top 2 Teams Wins Race')\n",
    "\n",
    "# Reduce the width of both figures\n",
    "east_fig.plot_width = west_fig.plot_width = 300\n",
    "\n",
    "# Edit the titles\n",
    "east_fig.title.text = 'Eastern Conference'\n",
    "west_fig.title.text = 'Western Conference'\n",
    "\n",
    "# Configure the gridplot\n",
    "east_west_gridplot = gridplot([[west_fig, east_fig]], \n",
    "                              toolbar_location='right')\n",
    "\n",
    "# Plot the two visualizations in a horizontal configuration\n",
    "show(east_west_gridplot)"
   ]
  },
  {
   "cell_type": "markdown",
   "metadata": {},
   "source": [
    "Lastly, gridplot allows the passing of None values, which are interpreted as blank subplots. Therefore, if you wanted to leave a placeholder for two additional plots, then you could do something like this:"
   ]
  },
  {
   "cell_type": "code",
   "execution_count": null,
   "metadata": {},
   "outputs": [],
   "source": [
    "# Bokeh libraries\n",
    "from bokeh.io import output_file\n",
    "from bokeh.layouts import gridplot\n",
    "\n",
    "# Output to file\n",
    "output_file('east-west-top-2-gridplot.html', \n",
    "            title='Conference Top 2 Teams Wins Race')\n",
    "\n",
    "# Reduce the width of both figures\n",
    "east_fig.plot_width = west_fig.plot_width = 300\n",
    "\n",
    "# Edit the titles\n",
    "east_fig.title.text = 'Eastern Conference'\n",
    "west_fig.title.text = 'Western Conference'\n",
    "\n",
    "# Plot the two visualizations with placeholders\n",
    "east_west_gridplot = gridplot([[west_fig, None], [None, east_fig]], \n",
    "                              toolbar_location='right')\n",
    "\n",
    "# Plot the two visualizations in a horizontal configuration\n",
    "show(east_west_gridplot)"
   ]
  },
  {
   "cell_type": "markdown",
   "metadata": {},
   "source": [
    "If you’d rather toggle between both visualizations at their full size without having to squash them down to fit next to or on top of each other, a good option is a tabbed layout.\n",
    "\n",
    "A tabbed layout consists of two Bokeh widget functions: Tab() and Panel() from the bokeh.models.widgets sub-module. Like using gridplot(), making a tabbed layout is pretty straightforward:"
   ]
  },
  {
   "cell_type": "code",
   "execution_count": null,
   "metadata": {},
   "outputs": [],
   "source": [
    "# Bokeh Library\n",
    "from bokeh.io import output_file\n",
    "from bokeh.models.widgets import Tabs, Panel\n",
    "\n",
    "# Output to file\n",
    "output_file('east-west-top-2-tabbed_layout.html', \n",
    "            title='Conference Top 2 Teams Wins Race')\n",
    "\n",
    "# Increase the plot widths\n",
    "east_fig.plot_width = west_fig.plot_width = 800\n",
    "\n",
    "# Create two panels, one for each conference\n",
    "east_panel = Panel(child=east_fig, title='Eastern Conference')\n",
    "west_panel = Panel(child=west_fig, title='Western Conference')\n",
    "\n",
    "# Assign the panels to Tabs\n",
    "tabs = Tabs(tabs=[west_panel, east_panel])\n",
    "\n",
    "# Show the tabbed layout\n",
    "show(tabs)"
   ]
  },
  {
   "cell_type": "markdown",
   "metadata": {},
   "source": [
    "The first step is to create a Panel() for each tab. That may sound a little confusing, but think of the Tabs() function as the mechanism that organizes the individual tabs created with Panel().\n",
    "\n",
    "Each Panel() takes as input a child, which can either be a single figure() or a layout. (Remember that a layout is a general name for a column, row, or gridplot.) Once your panels are assembled, they can be passed as input to Tabs() in a list.\n",
    "\n",
    "Now that you understand how to access, draw, and organize your data, it’s time to move on to the real magic of Bokeh: interaction! As always, check out Bokeh’s User Guide for more information on [**layouts**](https://docs.bokeh.org/en/latest/docs/user_guide/layout.html)."
   ]
  },
  {
   "cell_type": "markdown",
   "metadata": {},
   "source": [
    "## Adding Interaction"
   ]
  },
  {
   "cell_type": "markdown",
   "metadata": {},
   "source": [
    "The feature that sets Bokeh apart is its ability to easily implement interactivity in your visualization. Bokeh even goes as far as describing itself as an <b>interactive visualization library</b>:\n",
    "\n",
    ">*Bokeh is an interactive visualization library that targets modern web browsers for presentation. [**(Source)**](https://docs.bokeh.org/en/latest/docs/user_guide/quickstart.html#userguide-quickstart)*\n",
    "\n",
    "In this section, we’ll touch on five ways that you can add interactivity:\n",
    "\n",
    "- Configuring the toolbar\n",
    "- Selecting data points\n",
    "- Adding hover actions\n",
    "- Linking axes and selections\n",
    "- Highlighting data using the legend\n",
    "\n",
    "Implementing these interactive elements open up possibilities for exploring your data that static visualizations just can’t do by themselves."
   ]
  },
  {
   "cell_type": "markdown",
   "metadata": {},
   "source": [
    "### Configuring the Toolbar"
   ]
  },
  {
   "cell_type": "markdown",
   "metadata": {},
   "source": [
    "As you saw all the way back in [**Generating Your First Figure**](https://realpython.com/python-data-visualization-bokeh/#generating-your-first-figure), the default Bokeh figure() comes with a toolbar right out of the box. The default toolbar comes with the following tools (from left to right):\n",
    "\n",
    "- Pan\n",
    "- Box Zoom\n",
    "- Wheel Zoom\n",
    "- Save\n",
    "- Reset\n",
    "- A link to [**Bokeh’s user guide for Configuring Plot Tools**](https://docs.bokeh.org/en/latest/docs/user_guide/tools.html#built-in-tools)\n",
    "- A link to the [**Bokeh homepage**](https://docs.bokeh.org/en/latest/)\n",
    "\n",
    "The toolbar can be removed by passing toolbar_location=None when instantiating a figure() object, or relocated by passing any of 'above', 'below', 'left', or 'right'.\n",
    "\n",
    "Additionally, the toolbar can be configured to include any combination of tools you desire. Bokeh offers 18 specific tools across five categories:\n",
    "\n",
    "- <b>Pan/Drag</b>: box_select, box_zoom, lasso_select, pan, xpan, ypan, resize_select\n",
    "- <b>Click/Tap</b>: poly_select, tap\n",
    "- <b>Scroll/Pinch</b>: wheel_zoom, xwheel_zoom, ywheel_zoom\n",
    "- <b>Actions</b>: undo, redo, reset, save\n",
    "- <b>Inspectors</b>: crosshair, hover\n",
    "\n",
    "To geek out on tool , make sure to visit [**Specifying Tools**](https://docs.bokeh.org/en/0.11.1/docs/user_guide/tools.html#specifying-tools). Otherwise, they’ll be illustrated in covering the various interactions covered herein."
   ]
  },
  {
   "cell_type": "markdown",
   "metadata": {},
   "source": [
    "### Selecting Data Points"
   ]
  },
  {
   "cell_type": "markdown",
   "metadata": {},
   "source": [
    "Implementing selection behavior is as easy as adding a few specific keywords when declaring your glyphs.\n",
    "\n",
    "The next example will create a scatter plot that relates a player’s total number of three-point shot attempts to the percentage made (for players with at least 100 three-point shot attempts).\n",
    "\n",
    "The data can be aggregated from the player_stats DataFrame:"
   ]
  },
  {
   "cell_type": "code",
   "execution_count": null,
   "metadata": {},
   "outputs": [],
   "source": [
    "# Find players who took at least 1 three-point shot during the season\n",
    "three_takers = player_stats[player_stats['play3PA'] > 0]\n",
    "\n",
    "# # Clean up the player names, placing them in a single column\n",
    "three_takers['name'] = [f'{p[\"playFNm\"]} {p[\"playLNm\"]}' for _, p in three_takers.iterrows()]\n",
    "\n",
    "# # Aggregate the total three-point attempts and makes for each player\n",
    "three_takers = (three_takers.groupby('name')\n",
    "                            .sum()\n",
    "                            .loc[:,['play3PA', 'play3PM']]\n",
    "                            .sort_values('play3PA', ascending=False))\n",
    "\n",
    "# # Filter out anyone who didn't take at least 100 three-point shots\n",
    "three_takers = three_takers[three_takers['play3PA'] >= 100].reset_index()\n",
    "\n",
    "# # Add a column with a calculated three-point percentage (made/attempted)\n",
    "three_takers['pct3PM'] = three_takers['play3PM'] / three_takers['play3PA']\n",
    "\n",
    "three_takers.head()"
   ]
  },
  {
   "cell_type": "markdown",
   "metadata": {},
   "source": [
    "Here’s a sample of the resulting DataFrame:"
   ]
  },
  {
   "cell_type": "code",
   "execution_count": null,
   "metadata": {},
   "outputs": [],
   "source": [
    "three_takers.sample(5)"
   ]
  },
  {
   "cell_type": "markdown",
   "metadata": {},
   "source": [
    "Let’s say you want to select a groups of players in the distribution, and in doing so mute the color of the glyphs representing the non-selected players:"
   ]
  },
  {
   "cell_type": "code",
   "execution_count": null,
   "metadata": {},
   "outputs": [],
   "source": [
    "# Bokeh Libraries\n",
    "from bokeh.plotting import figure, show\n",
    "from bokeh.io import output_file\n",
    "from bokeh.models import ColumnDataSource, NumeralTickFormatter\n",
    "\n",
    "# Output to file\n",
    "output_file('three-point-att-vs-pct.html',\n",
    "            title='Three-Point Attempts vs. Percentage')\n",
    "\n",
    "# Store the data in a ColumnDataSource\n",
    "three_takers_cds = ColumnDataSource(three_takers)\n",
    "\n",
    "# Specify the selection tools to be made available\n",
    "select_tools = ['box_select', 'lasso_select', 'poly_select', 'tap', 'reset']\n",
    "\n",
    "# Create the figure\n",
    "fig = figure(plot_height=400,\n",
    "             plot_width=600,\n",
    "             x_axis_label='Three-Point Shots Attempted',\n",
    "             y_axis_label='Percentage Made',\n",
    "             title='3PT Shots Attempted vs. Percentage Made (min. 100 3PA), 2017-18',\n",
    "             toolbar_location='below',\n",
    "             tools=select_tools)\n",
    "\n",
    "# Format the y-axis tick labels as percentages\n",
    "fig.yaxis[0].formatter = NumeralTickFormatter(format='00.0%')\n",
    "\n",
    "# Add square representing each player\n",
    "fig.square(x='play3PA',\n",
    "           y='pct3PM',\n",
    "           source=three_takers_cds,\n",
    "           color='royalblue',\n",
    "           selection_color='deepskyblue',\n",
    "           nonselection_color='lightgray',\n",
    "           nonselection_alpha=0.3)\n",
    "\n",
    "# Visualize\n",
    "show(fig)"
   ]
  },
  {
   "cell_type": "markdown",
   "metadata": {},
   "source": [
    "First, specify the selection tools you want to make available. In the example above, 'box_select', 'lasso_select', 'poly_select', and 'tap' (plus a reset button) were specified in a list called select_tools. When the figure is instantiated, the toolbar is positioned 'below' the plot, and the list is passed to tools to make the tools selected above available.\n",
    "\n",
    "Each player is initially represented by a royal blue square glyph, but the following configurations are set for when a player or group of players is selected:\n",
    "\n",
    "- Turn the selected player(s) to deepskyblue\n",
    "- Change all non-selected players’ glyphs to a lightgray color with 0.3 opacity\n",
    "\n",
    "For even more information about what you can do upon selection, check out [**Selected and Unselected Glyphs**](https://docs.bokeh.org/en/latest/docs/user_guide/styling.html#selected-and-unselected-glyphs)."
   ]
  },
  {
   "cell_type": "markdown",
   "metadata": {},
   "source": [
    "### Adding Hover Actions"
   ]
  },
  {
   "cell_type": "markdown",
   "metadata": {},
   "source": [
    "So the ability to select specific player data points that seem of interest in my scatter plot is implemented, but what if you want to quickly see what individual players a glyph represents? One option is to use Bokeh’s HoverTool() to show a tooltip when the cursor crosses paths with a glyph. All you need to do is append the following to the code snippet above:"
   ]
  },
  {
   "cell_type": "code",
   "execution_count": null,
   "metadata": {},
   "outputs": [],
   "source": [
    "# Bokeh Library\n",
    "from bokeh.models import HoverTool\n",
    "\n",
    "# Format the tooltip\n",
    "tooltips = [\n",
    "            ('Player','@name'),\n",
    "            ('Three-Pointers Made', '@play3PM'),\n",
    "            ('Three-Pointers Attempted', '@play3PA'),\n",
    "            ('Three-Point Percentage','@pct3PM{00.0%}'),\n",
    "           ]\n",
    "\n",
    "# Add the HoverTool to the figure\n",
    "fig.add_tools(HoverTool(tooltips=tooltips))\n",
    "\n",
    "# Visualize\n",
    "show(fig)"
   ]
  },
  {
   "cell_type": "markdown",
   "metadata": {},
   "source": [
    "The HoverTool() is slightly different than the selection tools you saw above in that it has properties, specifically tooltips.\n",
    "\n",
    "First, you can configure a formatted tooltip by creating a list of tuples containing a description and reference to the ColumnDataSource. This list was passed as input to the HoverTool() and then simply added to the figure using add_tools(). Here’s what happened:\n",
    "\n",
    "If you want to even further emphasize the players on hover, Bokeh makes that possible with hover inspections. Here is a slightly modified version of the code snippet that added the tooltip:"
   ]
  },
  {
   "cell_type": "code",
   "execution_count": null,
   "metadata": {},
   "outputs": [],
   "source": [
    "# Format the tooltip\n",
    "tooltips = [\n",
    "            ('Player','@name'),\n",
    "            ('Three-Pointers Made', '@play3PM'),\n",
    "            ('Three-Pointers Attempted', '@play3PA'),\n",
    "            ('Three-Point Percentage','@pct3PM{00.0%}'),\n",
    "           ]\n",
    "\n",
    "# Configure a renderer to be used upon hover\n",
    "hover_glyph = fig.circle(x='play3PA', y='pct3PM', source=three_takers_cds,\n",
    "                         size=15, alpha=0,\n",
    "                         hover_fill_color='black', hover_alpha=0.5)\n",
    "\n",
    "# Add the HoverTool to the figure\n",
    "fig.add_tools(HoverTool(tooltips=tooltips, renderers=[hover_glyph]))\n",
    "\n",
    "# Visualize\n",
    "show(fig)"
   ]
  },
  {
   "cell_type": "markdown",
   "metadata": {},
   "source": [
    "This is done by creating a completely new glyph, in this case circles instead of squares, and assigning it to hover_glyph. Note that the initial opacity is set to zero so that it is invisible until the cursor is touching it. The properties that appear upon hover are captured by setting hover_alpha to 0.5 along with the hover_fill_color.\n",
    "\n",
    "To further explore the capabilities of the HoverTool(), see the [**HoverTool**](https://docs.bokeh.org/en/latest/docs/user_guide/tools.html#hovertool) and [**Hover Inspections**](https://docs.bokeh.org/en/latest/docs/user_guide/styling.html#hover-inspections) guides."
   ]
  },
  {
   "cell_type": "markdown",
   "metadata": {},
   "source": [
    "### Linking Axes and Selections"
   ]
  },
  {
   "cell_type": "markdown",
   "metadata": {},
   "source": [
    "Linking is the process of syncing elements of different visualizations within a layout. For instance, maybe you want to link the axes of multiple plots to ensure that if you zoom in on one it is reflected on another. Let’s see how it is done.\n",
    "\n",
    "For this example, the visualization will be able to pan to different segments of a team’s schedule and examine various game stats. Each stat will be represented by its own plot in a two-by-two gridplot() .\n",
    "\n",
    "The data can be collected from the team_stats DataFrame, selecting the Philadelphia 76ers as the team of interest:"
   ]
  },
  {
   "cell_type": "code",
   "execution_count": null,
   "metadata": {},
   "outputs": [],
   "source": [
    "# Isolate relevant data\n",
    "phi_gm_stats = (team_stats[(team_stats['teamAbbr'] == 'PHI') & \n",
    "                           (team_stats['seasTyp'] == 'Regular')]\n",
    "                .loc[:, ['gmDate', \n",
    "                         'teamPTS', \n",
    "                         'teamTRB', \n",
    "                         'teamAST', \n",
    "                         'teamTO', \n",
    "                         'opptPTS',]]\n",
    "                .sort_values('gmDate'))\n",
    "\n",
    "# Add game number\n",
    "phi_gm_stats['game_num'] = range(1, len(phi_gm_stats)+1)\n",
    "\n",
    "# Derive a win_loss column\n",
    "win_loss = []\n",
    "for _, row in phi_gm_stats.iterrows():\n",
    "\n",
    "    # If the 76ers score more points, it's a win\n",
    "    if row['teamPTS'] > row['opptPTS']:\n",
    "        win_loss.append('W')\n",
    "    else:\n",
    "        win_loss.append('L')\n",
    "\n",
    "# Add the win_loss data to the DataFrame\n",
    "phi_gm_stats['winLoss'] = win_loss"
   ]
  },
  {
   "cell_type": "markdown",
   "metadata": {},
   "source": [
    "Here are the results of the 76ers’ first 5 games:"
   ]
  },
  {
   "cell_type": "code",
   "execution_count": null,
   "metadata": {},
   "outputs": [],
   "source": [
    "phi_gm_stats.head()"
   ]
  },
  {
   "cell_type": "markdown",
   "metadata": {},
   "source": [
    "Start by importing the necessary Bokeh libraries, specifying the output parameters, and reading the data into a ColumnDataSource:"
   ]
  },
  {
   "cell_type": "code",
   "execution_count": null,
   "metadata": {},
   "outputs": [],
   "source": [
    "# Bokeh Libraries\n",
    "from bokeh.plotting import figure, show\n",
    "from bokeh.io import output_file\n",
    "from bokeh.models import ColumnDataSource, CategoricalColorMapper, Div\n",
    "from bokeh.layouts import gridplot, column\n",
    "\n",
    "# Output to file\n",
    "output_file('phi-gm-linked-stats.html',\n",
    "                title='76ers Game Log')\n",
    "\n",
    "# Store the data in a ColumnDataSource\n",
    "gm_stats_cds = ColumnDataSource(phi_gm_stats)"
   ]
  },
  {
   "cell_type": "markdown",
   "metadata": {},
   "source": [
    "Each game is represented by a column, and will be colored green if the result was a win and red for a loss. To accomplish this, Bokeh’s CategoricalColorMapper can be used to map the data values to specified colors:"
   ]
  },
  {
   "cell_type": "code",
   "execution_count": null,
   "metadata": {},
   "outputs": [],
   "source": [
    "# Create a CategoricalColorMapper that assigns a color to wins and losses\n",
    "win_loss_mapper = CategoricalColorMapper(factors = ['W', 'L'], \n",
    "                                         palette=['green', 'red'])"
   ]
  },
  {
   "cell_type": "markdown",
   "metadata": {},
   "source": [
    "For this use case, a list specifying the categorical data values to be mapped is passed to factors and a list with the intended colors to palette. For more on the CategoricalColorMapper, see the [**Colors**](https://docs.bokeh.org/en/latest/docs/user_guide/categorical.html#colors) section of [**Handling Categorical Data**](https://docs.bokeh.org/en/latest/docs/user_guide/categorical.html#handling-categorical-data) on Bokeh’s User Guide.\n",
    "\n",
    "There are four stats to visualize in the two-by-two gridplot: points, assists, rebounds, and turnovers. In creating the four figures and configuring their respective charts, there is a lot of redundancy in the properties. So to streamline the code a for loop can be used:"
   ]
  },
  {
   "cell_type": "code",
   "execution_count": null,
   "metadata": {},
   "outputs": [],
   "source": [
    "# Create a dict with the stat name and its corresponding column in the data\n",
    "stat_names = {'Points': 'teamPTS',\n",
    "              'Assists': 'teamAST',\n",
    "              'Rebounds': 'teamTRB',\n",
    "              'Turnovers': 'teamTO',}\n",
    "\n",
    "# The figure for each stat will be held in this dict\n",
    "stat_figs = {}\n",
    "\n",
    "# For each stat in the dict\n",
    "for stat_label, stat_col in stat_names.items():\n",
    "\n",
    "    # Create a figure\n",
    "    fig = figure(y_axis_label=stat_label, \n",
    "                 plot_height=200, plot_width=400,\n",
    "                 x_range=(1, 10), tools=['xpan', 'reset', 'save'])\n",
    "\n",
    "    # Configure vbar\n",
    "    fig.vbar(x='game_num', top=stat_col, source=gm_stats_cds, width=0.9, \n",
    "             color=dict(field='winLoss', transform=win_loss_mapper))\n",
    "\n",
    "    # Add the figure to stat_figs dict\n",
    "    stat_figs[stat_label] = fig"
   ]
  },
  {
   "cell_type": "markdown",
   "metadata": {},
   "source": [
    "As you can see, the only parameters that needed to be adjusted were the y-axis-label of the figure and the data that will dictate top in the vbar. These values were easily stored in a dict that was iterated through to create the figures for each stat.\n",
    "\n",
    "You can also see the implementation of the CategoricalColorMapper in the configuration of the vbar glyph. The color property is passed a dict with the field in the ColumnDataSource to be mapped and the name of the CategoricalColorMapper created above.\n",
    "\n",
    "The initial view will only show the first 10 games of the 76ers’ season, so there needs to be a way to pan horizontally to navigate through the rest of the games in the season. Thus configuring the toolbar to have an xpan tool allows panning throughout the plot without having to worry about accidentally skewing the view along the vertical axis.\n",
    "\n",
    "Now that the figures are created, gridplot can be setup by referencing the figures from the dict created above:"
   ]
  },
  {
   "cell_type": "code",
   "execution_count": null,
   "metadata": {},
   "outputs": [],
   "source": [
    "# Create layout\n",
    "grid = gridplot([[stat_figs['Points'], stat_figs['Assists']], \n",
    "                [stat_figs['Rebounds'], stat_figs['Turnovers']]])"
   ]
  },
  {
   "cell_type": "markdown",
   "metadata": {},
   "source": [
    "Linking the axes of the four plots is as simple as setting the x_range of each figure equal to one another:\n",
    "\n"
   ]
  },
  {
   "cell_type": "code",
   "execution_count": null,
   "metadata": {},
   "outputs": [],
   "source": [
    "# Link together the x-axes\n",
    "stat_figs['Points'].x_range = \\\n",
    "    stat_figs['Assists'].x_range = \\\n",
    "    stat_figs['Rebounds'].x_range = \\\n",
    "    stat_figs['Turnovers'].x_range"
   ]
  },
  {
   "cell_type": "markdown",
   "metadata": {},
   "source": [
    "To add a title bar to the visualization, you could have tried to do this on the points figure, but it would have been limited to the space of that figure. Therefore, a nice trick is to use Bokeh’s ability to interpret HTML to insert a Div element that contains the title information. Once that is created, simply combine that with the gridplot() in a column layout:"
   ]
  },
  {
   "cell_type": "code",
   "execution_count": null,
   "metadata": {},
   "outputs": [],
   "source": [
    "# Add a title for the entire visualization using Div\n",
    "html = \"\"\"<h3>Philadelphia 76ers Game Log</h3>\n",
    "<b><i>2017-18 Regular Season</i>\n",
    "<br>\n",
    "</b><i>Wins in green, losses in red</i>\n",
    "\"\"\"\n",
    "sup_title = Div(text=html)\n",
    "\n",
    "# Visualize\n",
    "show(column(sup_title, grid))"
   ]
  },
  {
   "cell_type": "markdown",
   "metadata": {},
   "source": [
    "Putting all the pieces together results in the following:"
   ]
  },
  {
   "cell_type": "markdown",
   "metadata": {},
   "source": [
    "\n",
    "To see how this works, the next visualization will contain two scatter plots: one that shows the 76ers’ two-point versus three-point field goal percentage and the other showing the 76ers’ team points versus opponent points on a game-by-game basis.\n",
    "\n",
    "The goal is to be able to select data points on the left-side scatter plot and quickly be able to recognize if the corresponding datapoint on the right scatter plot is a win or loss.\n",
    "\n",
    "The DataFrame for this visualization is very similar to that from the first example:"
   ]
  },
  {
   "cell_type": "code",
   "execution_count": null,
   "metadata": {},
   "outputs": [],
   "source": [
    "# Isolate relevant data\n",
    "phi_gm_stats_2 = (team_stats[(team_stats['teamAbbr'] == 'PHI') & \n",
    "                             (team_stats['seasTyp'] == 'Regular')]\n",
    "                  .loc[:, ['gmDate', \n",
    "                           'team2P%', \n",
    "                           'team3P%', \n",
    "                           'teamPTS', \n",
    "                           'opptPTS']]\n",
    "                  .sort_values('gmDate'))\n",
    "\n",
    "# Add game number\n",
    "phi_gm_stats_2['game_num'] = range(1, len(phi_gm_stats_2) + 1)\n",
    "\n",
    "# Derive a win_loss column\n",
    "win_loss = []\n",
    "for _, row in phi_gm_stats_2.iterrows():\n",
    "\n",
    "    # If the 76ers score more points, it's a win\n",
    "    if row['teamPTS'] > row['opptPTS']:\n",
    "        win_loss.append('W')\n",
    "    else:\n",
    "        win_loss.append('L')\n",
    "\n",
    "# Add the win_loss data to the DataFrame\n",
    "phi_gm_stats_2['winLoss'] = win_loss"
   ]
  },
  {
   "cell_type": "markdown",
   "metadata": {},
   "source": [
    "Here’s what the data looks like:"
   ]
  },
  {
   "cell_type": "code",
   "execution_count": null,
   "metadata": {},
   "outputs": [],
   "source": [
    "phi_gm_stats_2.head()"
   ]
  },
  {
   "cell_type": "markdown",
   "metadata": {},
   "source": [
    "The code to create the visualization is as follows:"
   ]
  },
  {
   "cell_type": "code",
   "execution_count": null,
   "metadata": {},
   "outputs": [],
   "source": [
    "# Bokeh Libraries\n",
    "from bokeh.plotting import figure, show\n",
    "from bokeh.io import output_file\n",
    "from bokeh.models import ColumnDataSource, CategoricalColorMapper, NumeralTickFormatter\n",
    "from bokeh.layouts import gridplot\n",
    "\n",
    "# Output inline in the notebook\n",
    "output_file('phi-gm-linked-selections.html',\n",
    "            title='76ers Percentages vs. Win-Loss')\n",
    "\n",
    "# Store the data in a ColumnDataSource\n",
    "gm_stats_cds = ColumnDataSource(phi_gm_stats_2)\n",
    "\n",
    "# Create a CategoricalColorMapper that assigns specific colors to wins and losses\n",
    "win_loss_mapper = CategoricalColorMapper(factors = ['W', 'L'], palette=['Green', 'Red'])\n",
    "\n",
    "# Specify the tools\n",
    "toolList = ['lasso_select', 'tap', 'reset', 'save']\n",
    "\n",
    "# Create a figure relating the percentages\n",
    "pctFig = figure(title='2PT FG % vs 3PT FG %, 2017-18 Regular Season',\n",
    "                plot_height=400, plot_width=400, tools=toolList,\n",
    "                x_axis_label='2PT FG%', y_axis_label='3PT FG%')\n",
    "\n",
    "# Draw with circle markers\n",
    "pctFig.circle(x='team2P%', y='team3P%', source=gm_stats_cds, \n",
    "              size=12, color='black')\n",
    "\n",
    "# Format the y-axis tick labels as percenages\n",
    "pctFig.xaxis[0].formatter = NumeralTickFormatter(format='00.0%')\n",
    "pctFig.yaxis[0].formatter = NumeralTickFormatter(format='00.0%')\n",
    "\n",
    "# Create a figure relating the totals\n",
    "totFig = figure(title='Team Points vs Opponent Points, 2017-18 Regular Season',\n",
    "                plot_height=400, plot_width=400, tools=toolList,\n",
    "                x_axis_label='Team Points', y_axis_label='Opponent Points')\n",
    "\n",
    "# Draw with square markers\n",
    "totFig.square(x='teamPTS', y='opptPTS', source=gm_stats_cds, size=10,\n",
    "              color=dict(field='winLoss', transform=win_loss_mapper))\n",
    "\n",
    "# Create layout\n",
    "grid = gridplot([[pctFig, totFig]])\n",
    "\n",
    "# Visualize\n",
    "show(grid)"
   ]
  },
  {
   "cell_type": "markdown",
   "metadata": {},
   "source": [
    "This is a great illustration of the power in using a ColumnDataSource. As long as the glyph renderers (in this case, the circle glyphs for the percentages, and square glyphs for the wins and losses) share the same ColumnDataSource, then the selections will be linked by default.\n",
    "\n",
    "By selecting a random sample of data points in the upper right quadrant of the left scatter plot, those corresponding to both high two-point and three-point field goal percentage, the data points on the right scatter plot are highlighted.\n",
    "\n",
    "Similarly, selecting data points on the right scatter plot that correspond to losses tend to be further to the lower left, lower shooting percentages, on the left scatter plot.\n",
    "\n",
    "All the details on [**Linking Plots**](https://docs.bokeh.org/en/latest/docs/user_guide/interaction/linking.html) can be found at Linking Plots in the Bokeh User Guide."
   ]
  },
  {
   "cell_type": "markdown",
   "metadata": {},
   "source": [
    "### Highlighting Data Using the Legend"
   ]
  },
  {
   "cell_type": "markdown",
   "metadata": {},
   "source": [
    "That brings us to the final interactivity example in this tutorial: interactive legends.\n",
    "\n",
    "In the [**Drawing Data With Glyphs**](https://realpython.com/python-data-visualization-bokeh/#drawing-data-with-glyphs) section, you saw how easy it is to implement a legend when creating your plot. With the legend in place, adding interactivity is merely a matter of assigning a click_policy. Using a single line of code, you can quickly add the ability to either hide or mute data using the legend.\n",
    "\n",
    "In this example, you’ll see two identical scatter plots comparing the game-by-game points and rebounds of LeBron James and Kevin Durant. The only difference will be that one will use a hide as its click_policy, while the other uses mute.\n",
    "\n",
    "The first step is to configure the output and set up the data, creating a view for each player from the player_stats DataFrame:"
   ]
  },
  {
   "cell_type": "code",
   "execution_count": null,
   "metadata": {},
   "outputs": [],
   "source": [
    "# Bokeh Libraries\n",
    "from bokeh.plotting import figure, show\n",
    "from bokeh.io import output_file\n",
    "from bokeh.models import ColumnDataSource, CDSView, GroupFilter\n",
    "from bokeh.layouts import row\n",
    "\n",
    "# Output inline in the notebook\n",
    "output_file('lebron-vs-durant.html',\n",
    "            title='LeBron James vs. Kevin Durant')\n",
    "\n",
    "# Store the data in a ColumnDataSource\n",
    "player_gm_stats = ColumnDataSource(player_stats)\n",
    "\n",
    "# Create a view for each player\n",
    "lebron_filters = [GroupFilter(column_name='playFNm', group='LeBron'),\n",
    "                  GroupFilter(column_name='playLNm', group='James')]\n",
    "lebron_view = CDSView(source=player_gm_stats,\n",
    "                      filters=lebron_filters)\n",
    "\n",
    "durant_filters = [GroupFilter(column_name='playFNm', group='Kevin'),\n",
    "                  GroupFilter(column_name='playLNm', group='Durant')]\n",
    "durant_view = CDSView(source=player_gm_stats,\n",
    "                      filters=durant_filters)"
   ]
  },
  {
   "cell_type": "markdown",
   "metadata": {},
   "source": [
    "Before creating the figures, the common parameters across the figure, markers, and data can be consolidated into dictionaries and reused. Not only does this save redundancy in the next step, but it provides an easy way to tweak these parameters later if need be:"
   ]
  },
  {
   "cell_type": "code",
   "execution_count": null,
   "metadata": {},
   "outputs": [],
   "source": [
    "# Consolidate the common keyword arguments in dicts\n",
    "common_figure_kwargs = {\n",
    "    'plot_width': 400,\n",
    "    'x_axis_label': 'Points',\n",
    "    'toolbar_location': None,\n",
    "}\n",
    "common_circle_kwargs = {\n",
    "    'x': 'playPTS',\n",
    "    'y': 'playTRB',\n",
    "    'source': player_gm_stats,\n",
    "    'size': 12,\n",
    "    'alpha': 0.7,\n",
    "}\n",
    "common_lebron_kwargs = {\n",
    "    'view': lebron_view,\n",
    "    'color': '#002859',\n",
    "    'legend': 'LeBron James'\n",
    "}\n",
    "common_durant_kwargs = {\n",
    "    'view': durant_view,\n",
    "    'color': '#FFC324',\n",
    "    'legend': 'Kevin Durant'\n",
    "}"
   ]
  },
  {
   "cell_type": "markdown",
   "metadata": {},
   "source": [
    "Now that the various properties are set, the two scatter plots can be built in a much more concise fashion:\n",
    "\n"
   ]
  },
  {
   "cell_type": "code",
   "execution_count": null,
   "metadata": {},
   "outputs": [],
   "source": [
    "# Create the two figures and draw the data\n",
    "hide_fig = figure(**common_figure_kwargs,\n",
    "                  title='Click Legend to HIDE Data', \n",
    "                  y_axis_label='Rebounds')\n",
    "hide_fig.circle(**common_circle_kwargs, **common_lebron_kwargs)\n",
    "hide_fig.circle(**common_circle_kwargs, **common_durant_kwargs)\n",
    "\n",
    "mute_fig = figure(**common_figure_kwargs, title='Click Legend to MUTE Data')\n",
    "mute_fig.circle(**common_circle_kwargs, **common_lebron_kwargs,\n",
    "                muted_alpha=0.1)\n",
    "mute_fig.circle(**common_circle_kwargs, **common_durant_kwargs,\n",
    "                muted_alpha=0.1)"
   ]
  },
  {
   "cell_type": "markdown",
   "metadata": {},
   "source": [
    "Note that mute_fig has an extra parameter called muted_alpha. This parameter controls the opacity of the markers when mute is used as the click_policy.\n",
    "\n",
    "Finally, the click_policy for each figure is set, and they are shown in a horizontal configuration:"
   ]
  },
  {
   "cell_type": "code",
   "execution_count": null,
   "metadata": {},
   "outputs": [],
   "source": [
    "# Add interactivity to the legend\n",
    "hide_fig.legend.click_policy = 'hide'\n",
    "mute_fig.legend.click_policy = 'mute'\n",
    "\n",
    "# Visualize\n",
    "show(row(hide_fig, mute_fig))"
   ]
  },
  {
   "cell_type": "markdown",
   "metadata": {},
   "source": [
    "Once the legend is in place, all you have to do is assign either hide or mute to the figure’s click_policy property. This will automatically turn your basic legend into an interactive legend.\n",
    "\n",
    "Also note that, specifically for mute, the additional property of muted_alpha was set in the respective circle glyphs for LeBron James and Kevin Durant. This dictates the visual effect driven by the legend interaction.\n",
    "\n",
    "For more on all things interaction in Bokeh, [**Adding Interactions**](https://docs.bokeh.org/en/latest/docs/user_guide/interaction.html) in the Bokeh User Guide is a great place to start."
   ]
  },
  {
   "cell_type": "markdown",
   "metadata": {},
   "source": [
    "## Summary and Next Steps"
   ]
  },
  {
   "cell_type": "markdown",
   "metadata": {},
   "source": [
    "Congratulations! You’ve made it to the end of this tutorial.\n",
    "\n",
    "You should now have a great set of tools to start turning your data into beautiful interactive visualizations using Bokeh. You can download the examples and code snippets from the [**Real Python GitHub repo**](https://github.com/realpython/materials/tree/master/intro-to-bokeh).\n",
    "\n",
    "You learned how to:\n",
    "\n",
    "- Configure your script to render to either a static HTML file or Jupyter Notebook\n",
    "- Instantiate and customize the figure() object\n",
    "- Build your visualization using glyphs\n",
    "- Access and filter your data with the ColumnDataSource\n",
    "- Organize multiple plots in grid and tabbed layouts\n",
    "- Add different forms of interaction, including selections, hover actions, linking, and interactive legends\n",
    "\n",
    "To explore even more of what Bokeh is capable of, the official [**Bokeh User Guide**](https://docs.bokeh.org/en/latest/docs/user_guide.html) is an excellent place to dig into some more advanced topics. I’d also recommend checking out [**Bokeh’s Gallery**](https://docs.bokeh.org/en/latest/docs/gallery.html) for tons of examples and inspiration."
   ]
  },
  {
   "cell_type": "code",
   "execution_count": null,
   "metadata": {},
   "outputs": [],
   "source": []
  }
 ],
 "metadata": {
  "kernelspec": {
   "display_name": "Python 3",
   "language": "python",
   "name": "python3"
  },
  "language_info": {
   "codemirror_mode": {
    "name": "ipython",
    "version": 3
   },
   "file_extension": ".py",
   "mimetype": "text/x-python",
   "name": "python",
   "nbconvert_exporter": "python",
   "pygments_lexer": "ipython3",
   "version": "3.8.3"
  }
 },
 "nbformat": 4,
 "nbformat_minor": 4
}
